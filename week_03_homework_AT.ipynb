{
 "cells": [
  {
   "cell_type": "markdown",
   "metadata": {},
   "source": [
    "### Homework 3 Numpy Arrays\n",
    "\n",
    "1. Open `cars.csv` in jupyter and look at the data. (Double click `cars.csv` to open in a new tab).\n",
    "2. We are converting each **column** into an numpy array.\n",
    "3. Notice we have text, integer and float data. \n",
    "4. Take care not to overwrite your starter code."
   ]
  },
  {
   "cell_type": "code",
   "execution_count": 2,
   "metadata": {},
   "outputs": [],
   "source": [
    "#Starter code. Do NOT modify this cell\n",
    "import pandas as pd\n",
    "import numpy as np\n",
    "\n",
    "# Read in dataset\n",
    "df = pd.read_csv('cars.csv',delimiter=';')\n",
    "\n",
    "# Convert each column to an np.array\n",
    "car = df.Car.to_numpy()\n",
    "mpg = df.MPG.to_numpy()\n",
    "cylinders = df.Cylinders.to_numpy()\n",
    "displacement = df.Displacement.to_numpy()\n",
    "horsepower = df.Horsepower.to_numpy()\n",
    "weight = df.Weight.to_numpy()\n",
    "acceleration = df.Acceleration.to_numpy()\n",
    "model = df.Model.to_numpy()\n",
    "origin = df.Origin.to_numpy()\n",
    "\n",
    "# create an array of headers\n",
    "headers = np.array(['Car', 'MPG', 'Cylinders', 'Displacement', 'Horsepower', 'Weight','Acceleration', 'Model', 'Origin'])\n"
   ]
  },
  {
   "cell_type": "markdown",
   "metadata": {},
   "source": [
    "1. How can you get help on `np.array`?\n",
    "\n",
    "Call dir() on np.array.\n",
    "\n",
    "Call dir() on car.\n",
    "\n",
    "Note the difference. `car` has methods and attributes we can use."
   ]
  },
  {
   "cell_type": "code",
   "execution_count": 6,
   "metadata": {},
   "outputs": [],
   "source": [
    "### \"Pip install pandas\" in command line\n",
    "\n",
    "# How can you get help on np.array?\n",
    "?np.array # releases help window to get more information "
   ]
  },
  {
   "cell_type": "code",
   "execution_count": 7,
   "metadata": {},
   "outputs": [
    {
     "data": {
      "text/plain": [
       "['__call__',\n",
       " '__class__',\n",
       " '__delattr__',\n",
       " '__dir__',\n",
       " '__doc__',\n",
       " '__eq__',\n",
       " '__format__',\n",
       " '__ge__',\n",
       " '__getattribute__',\n",
       " '__gt__',\n",
       " '__hash__',\n",
       " '__init__',\n",
       " '__init_subclass__',\n",
       " '__le__',\n",
       " '__lt__',\n",
       " '__module__',\n",
       " '__name__',\n",
       " '__ne__',\n",
       " '__new__',\n",
       " '__qualname__',\n",
       " '__reduce__',\n",
       " '__reduce_ex__',\n",
       " '__repr__',\n",
       " '__self__',\n",
       " '__setattr__',\n",
       " '__sizeof__',\n",
       " '__str__',\n",
       " '__subclasshook__',\n",
       " '__text_signature__']"
      ]
     },
     "execution_count": 7,
     "metadata": {},
     "output_type": "execute_result"
    }
   ],
   "source": [
    "# Call dir() on np.array\n",
    "dir(np.array)"
   ]
  },
  {
   "cell_type": "code",
   "execution_count": 8,
   "metadata": {},
   "outputs": [
    {
     "data": {
      "text/plain": [
       "['T',\n",
       " '__abs__',\n",
       " '__add__',\n",
       " '__and__',\n",
       " '__array__',\n",
       " '__array_finalize__',\n",
       " '__array_function__',\n",
       " '__array_interface__',\n",
       " '__array_prepare__',\n",
       " '__array_priority__',\n",
       " '__array_struct__',\n",
       " '__array_ufunc__',\n",
       " '__array_wrap__',\n",
       " '__bool__',\n",
       " '__class__',\n",
       " '__complex__',\n",
       " '__contains__',\n",
       " '__copy__',\n",
       " '__deepcopy__',\n",
       " '__delattr__',\n",
       " '__delitem__',\n",
       " '__dir__',\n",
       " '__divmod__',\n",
       " '__doc__',\n",
       " '__eq__',\n",
       " '__float__',\n",
       " '__floordiv__',\n",
       " '__format__',\n",
       " '__ge__',\n",
       " '__getattribute__',\n",
       " '__getitem__',\n",
       " '__gt__',\n",
       " '__hash__',\n",
       " '__iadd__',\n",
       " '__iand__',\n",
       " '__ifloordiv__',\n",
       " '__ilshift__',\n",
       " '__imatmul__',\n",
       " '__imod__',\n",
       " '__imul__',\n",
       " '__index__',\n",
       " '__init__',\n",
       " '__init_subclass__',\n",
       " '__int__',\n",
       " '__invert__',\n",
       " '__ior__',\n",
       " '__ipow__',\n",
       " '__irshift__',\n",
       " '__isub__',\n",
       " '__iter__',\n",
       " '__itruediv__',\n",
       " '__ixor__',\n",
       " '__le__',\n",
       " '__len__',\n",
       " '__lshift__',\n",
       " '__lt__',\n",
       " '__matmul__',\n",
       " '__mod__',\n",
       " '__mul__',\n",
       " '__ne__',\n",
       " '__neg__',\n",
       " '__new__',\n",
       " '__or__',\n",
       " '__pos__',\n",
       " '__pow__',\n",
       " '__radd__',\n",
       " '__rand__',\n",
       " '__rdivmod__',\n",
       " '__reduce__',\n",
       " '__reduce_ex__',\n",
       " '__repr__',\n",
       " '__rfloordiv__',\n",
       " '__rlshift__',\n",
       " '__rmatmul__',\n",
       " '__rmod__',\n",
       " '__rmul__',\n",
       " '__ror__',\n",
       " '__rpow__',\n",
       " '__rrshift__',\n",
       " '__rshift__',\n",
       " '__rsub__',\n",
       " '__rtruediv__',\n",
       " '__rxor__',\n",
       " '__setattr__',\n",
       " '__setitem__',\n",
       " '__setstate__',\n",
       " '__sizeof__',\n",
       " '__str__',\n",
       " '__sub__',\n",
       " '__subclasshook__',\n",
       " '__truediv__',\n",
       " '__xor__',\n",
       " 'all',\n",
       " 'any',\n",
       " 'argmax',\n",
       " 'argmin',\n",
       " 'argpartition',\n",
       " 'argsort',\n",
       " 'astype',\n",
       " 'base',\n",
       " 'byteswap',\n",
       " 'choose',\n",
       " 'clip',\n",
       " 'compress',\n",
       " 'conj',\n",
       " 'conjugate',\n",
       " 'copy',\n",
       " 'ctypes',\n",
       " 'cumprod',\n",
       " 'cumsum',\n",
       " 'data',\n",
       " 'diagonal',\n",
       " 'dot',\n",
       " 'dtype',\n",
       " 'dump',\n",
       " 'dumps',\n",
       " 'fill',\n",
       " 'flags',\n",
       " 'flat',\n",
       " 'flatten',\n",
       " 'getfield',\n",
       " 'imag',\n",
       " 'item',\n",
       " 'itemset',\n",
       " 'itemsize',\n",
       " 'max',\n",
       " 'mean',\n",
       " 'min',\n",
       " 'nbytes',\n",
       " 'ndim',\n",
       " 'newbyteorder',\n",
       " 'nonzero',\n",
       " 'partition',\n",
       " 'prod',\n",
       " 'ptp',\n",
       " 'put',\n",
       " 'ravel',\n",
       " 'real',\n",
       " 'repeat',\n",
       " 'reshape',\n",
       " 'resize',\n",
       " 'round',\n",
       " 'searchsorted',\n",
       " 'setfield',\n",
       " 'setflags',\n",
       " 'shape',\n",
       " 'size',\n",
       " 'sort',\n",
       " 'squeeze',\n",
       " 'std',\n",
       " 'strides',\n",
       " 'sum',\n",
       " 'swapaxes',\n",
       " 'take',\n",
       " 'tobytes',\n",
       " 'tofile',\n",
       " 'tolist',\n",
       " 'tostring',\n",
       " 'trace',\n",
       " 'transpose',\n",
       " 'var',\n",
       " 'view']"
      ]
     },
     "execution_count": 8,
     "metadata": {},
     "output_type": "execute_result"
    }
   ],
   "source": [
    "# Call dir() on car\n",
    "dir(car) # car has methods and attributes"
   ]
  },
  {
   "cell_type": "markdown",
   "metadata": {},
   "source": [
    " 2.What are the numpy datatypes for the `car`,`mpg`, `horsepower` and `origin` arrays? (Hint: Not `type(car)` and use `print()` to print the numpy type.)"
   ]
  },
  {
   "cell_type": "code",
   "execution_count": 13,
   "metadata": {},
   "outputs": [
    {
     "name": "stdout",
     "output_type": "stream",
     "text": [
      "object\n",
      "float64\n",
      "float64\n",
      "object\n"
     ]
    }
   ],
   "source": [
    "print(car.dtype) # is an object\n",
    "\n",
    "print(mpg.dtype) # is a float64\n",
    "\n",
    "print(horsepower.dtype) # is a float64\n",
    "\n",
    "print(origin.dtype) # is an object"
   ]
  },
  {
   "cell_type": "markdown",
   "metadata": {},
   "source": [
    "3.`numpy` is often imported as `np`. What is this action called? Why might you do this? "
   ]
  },
  {
   "cell_type": "markdown",
   "metadata": {},
   "source": [
    "This action is called shortening a module. You might do this as a short-hand way to easily refer to the module you are using. This saves you time, so that you do not have to type \"numpy\" every time you call the module. "
   ]
  },
  {
   "cell_type": "markdown",
   "metadata": {},
   "source": [
    "4.Each of the arrays (cars, mpg, cylinders, etc..) has how many dimensions? Show how to find this using code. "
   ]
  },
  {
   "cell_type": "code",
   "execution_count": 18,
   "metadata": {},
   "outputs": [
    {
     "name": "stdout",
     "output_type": "stream",
     "text": [
      "1\n",
      "1\n",
      "1\n",
      "1\n",
      "1\n",
      "1\n",
      "1\n",
      "1\n",
      "1\n"
     ]
    }
   ],
   "source": [
    "# Find the number of dimensions for each array\n",
    "\n",
    "# car\n",
    "print(car.ndim) # Only one dimension \n",
    "\n",
    "# mpg\n",
    "print(mpg.ndim) # Only one dimension \n",
    "\n",
    "# cylinders\n",
    "print(cylinders.ndim) # Only one dimension \n",
    "\n",
    "# displacement\n",
    "print(displacement.ndim) # Only one dimension \n",
    "\n",
    "# horsepower\n",
    "print(horsepower.ndim) # Only one dimension \n",
    "\n",
    "# weight\n",
    "print(weight.ndim) # Only one dimension \n",
    "\n",
    "# acceleration\n",
    "print(acceleration.ndim) # Only one dimension \n",
    "\n",
    "# model\n",
    "print(model.ndim) # Only one dimension \n",
    "\n",
    "# origin\n",
    "print(origin.ndim) # Only one dimension "
   ]
  },
  {
   "cell_type": "markdown",
   "metadata": {},
   "source": [
    "5.Show how to:\n",
    "\n",
    "- multiply the `mpg` array by 12.\n",
    "- divide the `mpg` array by 3.\n",
    "- raise the `mpg` array to the power of 4.\n",
    "- take the square root of the `mpg` array."
   ]
  },
  {
   "cell_type": "code",
   "execution_count": 33,
   "metadata": {
    "scrolled": true
   },
   "outputs": [],
   "source": [
    "#print(mpg)\n",
    "\n",
    "# multiply the mpg array by 12.\n",
    "mult_mpg = mpg*12\n",
    "# print(mult_mpg)\n",
    "\n",
    "# divide the mpg array by 3.\n",
    "div_mpg = mpg/3\n",
    "# print(div_mpg)\n",
    "\n",
    "# raise the mpg array to the power of 4.\n",
    "raise_mpg = mpg**4\n",
    "#print(raise_mpg)\n",
    "\n",
    "# take the square root of the mpg array.\n",
    "sqrt_mpg = np.sqrt(mpg)\n",
    "#print(sqrt_mpg)"
   ]
  },
  {
   "cell_type": "markdown",
   "metadata": {},
   "source": [
    "6.What is the ___ of `horsepower`?\n",
    "- sum\n",
    "- min\n",
    "- max\n",
    "- median\n",
    "- Optional: mode (May need to google help)"
   ]
  },
  {
   "cell_type": "code",
   "execution_count": 53,
   "metadata": {},
   "outputs": [
    {
     "name": "stdout",
     "output_type": "stream",
     "text": [
      "The sum of horsepower is 42033.0\n",
      "The minimum horsepower is 0.0\n",
      "The maximum horsepower is 230.0\n",
      "The median horsepower is 93.5\n"
     ]
    }
   ],
   "source": [
    "# sum\n",
    "print(\"The sum of horsepower is \" + str(sum(horsepower)))\n",
    "\n",
    "# min\n",
    "print(\"The minimum horsepower is \" + str(min(horsepower)))\n",
    "\n",
    "# max\n",
    "print(\"The maximum horsepower is \" + str(max(horsepower)))\n",
    "\n",
    "# # median\n",
    "print(\"The median horsepower is \" + str(np.median(horsepower)))"
   ]
  },
  {
   "cell_type": "code",
   "execution_count": 58,
   "metadata": {},
   "outputs": [
    {
     "name": "stdout",
     "output_type": "stream",
     "text": [
      "ModeResult(mode=array([150.]), count=array([22]))\n",
      "The mode for the horsepower array is 150, which appears 22 times\n"
     ]
    }
   ],
   "source": [
    "# Bonus: Find the mode\n",
    "\n",
    "# need stats function from scipy module\n",
    "from scipy import stats\n",
    "\n",
    "# mode\n",
    "mode_horsepower = stats.mode(horsepower)\n",
    "print(mode_horsepower)\n",
    "\n",
    "print(\"The mode for the horsepower array is 150, which appears 22 times\")"
   ]
  },
  {
   "cell_type": "markdown",
   "metadata": {},
   "source": [
    "7.Select a subset of `acceleration`. \n",
    "\n",
    "- Select only the first 5 elements.\n",
    "- Select every other element (new selection)."
   ]
  },
  {
   "cell_type": "code",
   "execution_count": 63,
   "metadata": {},
   "outputs": [
    {
     "name": "stdout",
     "output_type": "stream",
     "text": [
      "[12.  11.5 11.  12.  10.5]\n"
     ]
    }
   ],
   "source": [
    "# Print acceleration array\n",
    "#print(acceleration)\n",
    "\n",
    "# Select only the first 5 elements of the array\n",
    "print(acceleration[0:5])\n",
    "            # should output [12, 11.5, 11, 12, 10.5]"
   ]
  },
  {
   "cell_type": "code",
   "execution_count": 64,
   "metadata": {},
   "outputs": [
    {
     "name": "stdout",
     "output_type": "stream",
     "text": [
      "[12.  11.  10.5  9.  10.  17.5 11.  11.   8.   9.5 15.  15.5 14.5 17.5\n",
      " 17.5 15.  15.  18.5 15.5 19.  13.  15.5 15.5 11.5 13.  12.  13.5 15.\n",
      " 14.  19.5 19.  19.  15.5 23.5 16.5 12.  13.  11.  13.5 13.5 14.  14.\n",
      " 18.  18.  17.  15.  13.  13.  12.5 12.  14.5 11.  16.5 16.  16.  14.\n",
      " 13.  15.  19.5 13.5 14.  13.  19.5 14.  11.  13.5 16.5 16.  19.  21.\n",
      " 17.  16.5 14.5 16.  16.5 14.5 19.  15.5 15.  16.  16.  19.5 14.  13.5\n",
      " 18.5 19.  13.5 16.  16.  13.5 17.  14.  15.  14.5 17.5 16.9 17.7 13.\n",
      " 13.9 15.4 17.6 22.2 14.2 17.7 16.2 12.2 16.4 15.7 21.9 16.7 12.  14.\n",
      " 14.8 15.5 12.5 13.7 16.4 17.7 11.1 12.2 14.5 18.2 17.  16.4 14.5 13.5\n",
      " 14.4 18.6 15.5 12.8 18.2 15.4 17.2 16.7 15.1 13.4 13.7 14.2 14.5 16.7\n",
      " 14.9 13.6 15.8 16.6 18.2 18.2 15.4 13.2 14.9 15.  14.  14.4 20.1 24.8\n",
      " 13.2 19.2 16.  12.9 14.7 15.5 16.5 20.1 15.8 17.5 15.2 14.4 21.7 19.9\n",
      " 13.8 18.  11.4 15.1 17.  16.4 12.6 16.9 16.1 19.4 16.  16.2 14.2 14.4\n",
      " 14.8 20.4 19.6 13.8 19.  16.6 18.6 16.2 18.  20.5 18.2 14.7 14.5 16.9\n",
      " 15.7 16.4 14.5 13.9 17.3 24.6 18.6]\n"
     ]
    }
   ],
   "source": [
    "# Select every other element (new selection)\n",
    "print(acceleration[::2]) # slice operator to step by 2 (every other)"
   ]
  },
  {
   "cell_type": "markdown",
   "metadata": {},
   "source": [
    "8.Show how to select the number `99` in the array below. "
   ]
  },
  {
   "cell_type": "code",
   "execution_count": 67,
   "metadata": {},
   "outputs": [],
   "source": [
    "select_99 = np.array([[1,2,3],\n",
    "                      [4,5,99]])"
   ]
  },
  {
   "cell_type": "code",
   "execution_count": 68,
   "metadata": {},
   "outputs": [
    {
     "data": {
      "text/plain": [
       "99"
      ]
     },
     "execution_count": 68,
     "metadata": {},
     "output_type": "execute_result"
    }
   ],
   "source": [
    "# Only select 99\n",
    "select_99[1,2]"
   ]
  },
  {
   "cell_type": "markdown",
   "metadata": {},
   "source": [
    "9.Select the last element in each subarray (do this with one operation.)"
   ]
  },
  {
   "cell_type": "code",
   "execution_count": 73,
   "metadata": {},
   "outputs": [],
   "source": [
    "select_more = np.array([[1,2,3],\n",
    "                      [4,5,6],\n",
    "                      [7,8,9]])\n",
    "# returns array([3, 6, 9])"
   ]
  },
  {
   "cell_type": "code",
   "execution_count": 74,
   "metadata": {},
   "outputs": [
    {
     "data": {
      "text/plain": [
       "array([3, 6, 9])"
      ]
     },
     "execution_count": 74,
     "metadata": {},
     "output_type": "execute_result"
    }
   ],
   "source": [
    "# Your code here\n",
    "select_more[:,2]"
   ]
  },
  {
   "cell_type": "markdown",
   "metadata": {},
   "source": [
    "10.Use the built-in `np.lookfor()` function to search for `'log'`.\n",
    "\n",
    "Use the function you find and apply it to `mpg`."
   ]
  },
  {
   "cell_type": "code",
   "execution_count": 76,
   "metadata": {},
   "outputs": [
    {
     "name": "stdout",
     "output_type": "stream",
     "text": [
      "Search results for 'log'\n",
      "------------------------\n",
      "numpy.log\n",
      "    Natural logarithm, element-wise.\n",
      "numpy.log2\n",
      "    Base-2 logarithm of `x`.\n",
      "numpy.log10\n",
      "    Return the base 10 logarithm of the input array, element-wise.\n",
      "numpy.log1p\n",
      "    Return the natural logarithm of one plus the input array, element-wise.\n",
      "numpy.logspace\n",
      "    Return numbers spaced evenly on a log scale.\n",
      "numpy.logaddexp\n",
      "    Logarithm of the sum of exponentiations of the inputs.\n",
      "numpy.logaddexp2\n",
      "    Logarithm of the sum of exponentiations of the inputs in base-2.\n",
      "numpy.logical_or\n",
      "    Compute the truth value of x1 OR x2 element-wise.\n",
      "numpy.logical_and\n",
      "    Compute the truth value of x1 AND x2 element-wise.\n",
      "numpy.logical_not\n",
      "    Compute the truth value of NOT x element-wise.\n",
      "numpy.logical_xor\n",
      "    Compute the truth value of x1 XOR x2, element-wise.\n",
      "numpy.ma.log\n",
      "    Natural logarithm, element-wise.\n",
      "numpy.ma.log2\n",
      "    Base-2 logarithm of `x`.\n",
      "numpy.ma.log10\n",
      "    Return the base 10 logarithm of the input array, element-wise.\n",
      "numpy.recarray\n",
      "    Construct an ndarray that allows field access using attributes.\n",
      "numpy.geomspace\n",
      "    Return numbers spaced evenly on a log scale (a geometric progression).\n",
      "numpy.seterrcall\n",
      "    Set the floating-point error callback function or log object.\n",
      "numpy.ma.logical_or\n",
      "    Compute the truth value of x1 OR x2 element-wise.\n",
      "numpy.linalg.slogdet\n",
      "    Compute the sign and (natural) logarithm of the determinant of an array.\n",
      "numpy.ma.logical_and\n",
      "    Compute the truth value of x1 AND x2 element-wise.\n",
      "numpy.ma.logical_not\n",
      "    Compute the truth value of NOT x element-wise.\n",
      "numpy.ma.logical_xor\n",
      "    Compute the truth value of x1 XOR x2, element-wise.\n",
      "numpy.ma.mask_or\n",
      "    Combine two masks with the ``logical_or`` operator.\n",
      "numpy.distutils.log.good\n",
      "    If we log WARN messages, log this message as a 'nice' anti-warn\n",
      "numpy.random.Generator.logistic\n",
      "    Draw samples from a logistic distribution.\n",
      "numpy.random.Generator.lognormal\n",
      "    Draw samples from a log-normal distribution.\n",
      "numpy.random.Generator.logseries\n",
      "    Draw samples from a logarithmic series distribution.\n",
      "numpy.linalg._umath_linalg.slogdet\n",
      "    slogdet on the last two dimensions and broadcast on the rest.\n",
      "numpy.distutils.log.Log.good\n",
      "    If we log WARN messages, log this message as a 'nice' anti-warn\n",
      "numpy.random.RandomState.logistic\n",
      "    Draw samples from a logistic distribution.\n",
      "numpy.random.RandomState.lognormal\n",
      "    Draw samples from a log-normal distribution.\n",
      "numpy.random.RandomState.logseries\n",
      "    Draw samples from a logarithmic series distribution.\n",
      "numpy.all\n",
      "    Test whether all array elements along a given axis evaluate to True.\n",
      "numpy.any\n",
      "    Test whether any array element along a given axis evaluates to True.\n",
      "numpy.exp\n",
      "    Calculate the exponential of all elements in the input array.\n",
      "numpy.sort\n",
      "    Return a sorted copy of an array.\n",
      "numpy.expm1\n",
      "    Calculate ``exp(x) - 1`` for all elements in the array.\n",
      "numpy.isnan\n",
      "    Test element-wise for NaN and return result as a boolean array.\n",
      "numpy.MachAr\n",
      "    Diagnosing machine parameters.\n",
      "numpy.testing.suppress_warnings.record\n",
      "    Append a new recording filter or apply it if the state is entered.\n",
      "numpy.geterr\n",
      "    Get the current way of handling floating-point errors.\n",
      "numpy.kaiser\n",
      "    Return the Kaiser window.\n",
      "numpy.distutils.command.build.build\n",
      "    Abstract base class for defining command classes, the \"worker bees\"\n",
      "numpy.seterr\n",
      "    Set how floating-point errors are handled.\n",
      "numpy.distutils.command.sdist.sdist\n",
      "    Abstract base class for defining command classes, the \"worker bees\"\n",
      "numpy.hamming\n",
      "    Return the Hamming window.\n",
      "numpy.hanning\n",
      "    Return the Hanning window.\n",
      "numpy.bartlett\n",
      "    Return the Bartlett window.\n",
      "numpy.blackman\n",
      "    Return the Blackman window.\n",
      "numpy.errstate\n",
      "    errstate(**kwargs)\n",
      "numpy.isfinite\n",
      "    Test element-wise for finiteness (not infinity or not Not a Number).\n",
      "numpy.linspace\n",
      "    Return evenly spaced numbers over a specified interval.\n",
      "numpy.packbits\n",
      "    Packs the elements of a binary-valued array into bits in a uint8 array.\n",
      "numpy.distutils.command.config.config\n",
      "    Abstract base class for defining command classes, the \"worker bees\"\n",
      "numpy.geterrobj\n",
      "    geterrobj()\n",
      "numpy.seterrobj\n",
      "    seterrobj(errobj)\n",
      "numpy.bitwise_or\n",
      "    Compute the bit-wise OR of two arrays element-wise.\n",
      "numpy.geterrcall\n",
      "    Return the current callback function used on floating-point errors.\n",
      "numpy.distutils.command.install.install\n",
      "    Abstract base class for defining command classes, the \"worker bees\"\n",
      "numpy.bitwise_and\n",
      "    Compute the bit-wise AND of two arrays element-wise.\n",
      "numpy.bitwise_not\n",
      "    Compute bit-wise inversion, or bit-wise NOT, element-wise.\n",
      "numpy.bitwise_xor\n",
      "    Compute the bit-wise XOR of two arrays element-wise.\n",
      "numpy.ma.exp\n",
      "    Calculate the exponential of all elements in the input array.\n",
      "numpy.distutils.command.build_py.build_py\n",
      "    Abstract base class for defining command classes, the \"worker bees\"\n",
      "numpy.distutils.command.egg_info.egg_info\n",
      "    Abstract base class for defining command classes, the \"worker bees\"\n",
      "numpy.fft.fft2\n",
      "    Compute the 2-dimensional discrete Fourier Transform.\n",
      "numpy.fft.fftn\n",
      "    Compute the N-dimensional discrete Fourier Transform.\n",
      "numpy.fft.hfft\n",
      "    Compute the FFT of a signal that has Hermitian symmetry, i.e., a real\n",
      "numpy.fft.ifft2\n",
      "    Compute the 2-dimensional inverse discrete Fourier Transform.\n",
      "numpy.fft.ifftn\n",
      "    Compute the N-dimensional inverse discrete Fourier Transform.\n",
      "numpy.fft.ihfft\n",
      "    Compute the inverse FFT of a signal that has Hermitian symmetry.\n",
      "numpy.distutils.command.bdist_rpm.bdist_rpm\n",
      "    Abstract base class for defining command classes, the \"worker bees\"\n",
      "numpy.distutils.command.build_ext.build_ext\n",
      "    Abstract base class for defining command classes, the \"worker bees\"\n",
      "numpy.distutils.command.build_src.build_src\n",
      "    Abstract base class for defining command classes, the \"worker bees\"\n",
      "numpy.linalg.det\n",
      "    Compute the determinant of an array.\n",
      "numpy.matrix.any\n",
      "    Test whether any array element along a given axis evaluates to True.\n",
      "numpy.distutils.command.build_clib.build_clib\n",
      "    Abstract base class for defining command classes, the \"worker bees\"\n",
      "numpy.ma.bitwise_or\n",
      "    Compute the bit-wise OR of two arrays element-wise.\n",
      "numpy.histogram_bin_edges\n",
      "    Function to calculate only the edges of the bins used by the `histogram`\n",
      "numpy.ma.bitwise_and\n",
      "    Compute the bit-wise AND of two arrays element-wise.\n",
      "numpy.ma.bitwise_xor\n",
      "    Compute the bit-wise XOR of two arrays element-wise.\n",
      "numpy.distutils.command.install_clib.install_clib\n",
      "    Abstract base class for defining command classes, the \"worker bees\"\n",
      "numpy.distutils.command.install_data.install_data\n",
      "    Abstract base class for defining command classes, the \"worker bees\"\n",
      "numpy.distutils.command.build_scripts.build_scripts\n",
      "    Abstract base class for defining command classes, the \"worker bees\"\n",
      "numpy.distutils.fcompiler.FCompiler.add_link_object\n",
      "    Add 'object' to the list of object files (or analogues, such as\n",
      "numpy.distutils.ccompiler_opt.CCompilerOpt._dist_str\n",
      "    Return a string to print by log and errors.\n",
      "numpy.distutils.fcompiler.FCompiler.set_link_objects\n",
      "    Set the list of object files (or analogues) to be included in\n",
      "numpy.random.RandomState\n",
      "    Container for the slow Mersenne Twister pseudo-random number generator.\n",
      "numpy.random.SeedSequence\n",
      "    SeedSequence mixes sources of entropy in a reproducible way to set the\n",
      "numpy.distutils.command.install_headers.install_headers\n",
      "    Abstract base class for defining command classes, the \"worker bees\"\n",
      "numpy.distutils.command.egg_info.egg_info.write_file\n",
      "    Write `data` to `filename` (if not a dry run) after announcing it\n",
      "numpy.testing.suppress_warnings\n",
      "    Context manager and decorator doing much the same as\n",
      "numpy.distutils.command.bdist_rpm.bdist_rpm._format_changelog\n",
      "    Format the changelog correctly and convert it to a list of strings\n",
      "numpy.random.Generator.wald\n",
      "    Draw samples from a Wald, or inverse Gaussian, distribution.\n",
      "numpy.random.Generator.power\n",
      "    Draws samples in [0, 1] from a power distribution with positive\n",
      "numpy.random.Generator.gumbel\n",
      "    Draw samples from a Gumbel distribution.\n",
      "numpy.random.RandomState.wald\n",
      "    Draw samples from a Wald, or inverse Gaussian, distribution.\n",
      "numpy.random.RandomState.power\n",
      "    Draws samples in [0, 1] from a power distribution with positive\n",
      "numpy.random.Generator.vonmises\n",
      "    Draw samples from a von Mises distribution.\n",
      "numpy.random.RandomState.gumbel\n",
      "    Draw samples from a Gumbel distribution.\n",
      "numpy.random.RandomState.vonmises\n",
      "    Draw samples from a von Mises distribution.\n",
      "numpy.core._multiarray_umath.packbits\n",
      "    Packs the elements of a binary-valued array into bits in a uint8 array.\n",
      "numpy.random.Generator.exponential\n",
      "    Draw samples from an exponential distribution.\n",
      "numpy.distutils.numpy_distribution.NumpyDistribution.finalize_options\n",
      "    Set final values for all the options on the Distribution\n",
      "numpy.random.RandomState.exponential\n",
      "    Draw samples from an exponential distribution.\n",
      "numpy.distutils.ccompiler.CCompiler_spawn\n",
      "    Execute a command in a sub-process.\n",
      "numpy.random.Generator.multivariate_normal\n",
      "    multivariate_normal(mean, cov, size=None, check_valid='warn',\n",
      "numpy.random.RandomState.multivariate_normal\n",
      "    Draw random samples from a multivariate normal distribution.\n",
      "numpy.distutils.tests.test_ccompiler_opt_conf.TestConfFeatures.assertLogs\n",
      "    Fail unless a log message of level *level* or higher is emitted\n",
      "numpy.core._multiarray_umath.normalize_axis_index\n",
      "    Normalizes an axis index, `axis`, such that is a valid positive index into\n",
      "numpy.distutils.ccompiler.CCompiler_show_customization\n",
      "    Print the compiler customizations to stdout."
     ]
    }
   ],
   "source": [
    "# Searching for \"log\" with np.lookfor()\n",
    "np.lookfor('log')"
   ]
  },
  {
   "cell_type": "code",
   "execution_count": 82,
   "metadata": {},
   "outputs": [
    {
     "data": {
      "text/plain": [
       "array([[1.00000000e+18, 1.00000000e+15, 1.00000000e+18, ...,\n",
       "        1.00000000e+32, 1.00000000e+28, 1.00000000e+31],\n",
       "       [4.39397056e+17, 5.05919749e+14, 4.39397056e+17, ...,\n",
       "        2.27584593e+31, 2.74647411e+27, 2.38534401e+30],\n",
       "       [1.93069773e+17, 2.55954792e+14, 1.93069773e+17, ...,\n",
       "        5.17947468e+30, 7.54312006e+26, 5.68986603e+29],\n",
       "       ...,\n",
       "       [1.63789371e+01, 1.23548289e+01, 1.63789371e+01, ...,\n",
       "        6.10540230e+01, 4.19226744e+01, 5.55773659e+01],\n",
       "       [7.19685673e+00, 6.25055193e+00, 7.19685673e+00, ...,\n",
       "        1.38949549e+01, 1.15139540e+01, 1.32571137e+01],\n",
       "       [3.16227766e+00, 3.16227766e+00, 3.16227766e+00, ...,\n",
       "        3.16227766e+00, 3.16227766e+00, 3.16227766e+00]])"
      ]
     },
     "execution_count": 82,
     "metadata": {},
     "output_type": "execute_result"
    }
   ],
   "source": [
    "# I selected numpy.logspace\n",
    "# Apply to mpg\n",
    "np.logspace(mpg, 0.5)"
   ]
  },
  {
   "cell_type": "markdown",
   "metadata": {},
   "source": [
    "11.You your google skills to find the unique items in `origin`. (This may not have been covered in the readings.)"
   ]
  },
  {
   "cell_type": "code",
   "execution_count": 26,
   "metadata": {},
   "outputs": [
    {
     "data": {
      "text/plain": [
       "array([0, 5, 6])"
      ]
     },
     "execution_count": 26,
     "metadata": {},
     "output_type": "execute_result"
    }
   ],
   "source": [
    "#type(origin)\n",
    "origin_test = [0,6,5,0,6,5]\n"
   ]
  },
  {
   "cell_type": "markdown",
   "metadata": {},
   "source": [
    "12.\n",
    "- Create a 2D array and print its shape as well as ndim. (Any shape is fine)\n",
    "\n",
    "- Create a 3D array and print its shape as well as ndim.\n",
    "\n",
    "- Create a 4D array and print its shape as well as ndim. *It's hard to visualize 4-Dimensions but numpy can do it with ease!*"
   ]
  },
  {
   "cell_type": "code",
   "execution_count": null,
   "metadata": {},
   "outputs": [],
   "source": []
  },
  {
   "cell_type": "markdown",
   "metadata": {},
   "source": [
    "13.Use boolean indexing to create an array of `True/False` using `origin` and the value 'US'."
   ]
  },
  {
   "cell_type": "code",
   "execution_count": 31,
   "metadata": {
    "scrolled": true
   },
   "outputs": [
    {
     "data": {
      "text/plain": [
       "array([ True,  True,  True,  True,  True,  True,  True,  True,  True,\n",
       "        True, False,  True,  True,  True,  True,  True,  True,  True,\n",
       "        True,  True, False,  True,  True,  True, False, False, False,\n",
       "       False, False, False,  True,  True,  True,  True,  True, False,\n",
       "        True, False,  True, False,  True,  True,  True,  True,  True,\n",
       "        True,  True,  True,  True,  True,  True,  True,  True,  True,\n",
       "        True,  True,  True, False, False, False, False, False, False,\n",
       "        True, False,  True, False,  True,  True,  True,  True,  True,\n",
       "        True,  True,  True,  True,  True,  True, False,  True,  True,\n",
       "        True,  True, False, False, False, False,  True, False, False,\n",
       "        True, False,  True,  True,  True,  True,  True,  True,  True,\n",
       "        True,  True,  True,  True,  True,  True,  True,  True,  True,\n",
       "        True, False,  True,  True,  True,  True,  True, False,  True,\n",
       "       False, False,  True,  True, False,  True,  True, False, False,\n",
       "       False, False,  True, False, False,  True,  True,  True,  True,\n",
       "        True, False,  True, False,  True,  True,  True,  True,  True,\n",
       "        True,  True,  True,  True, False, False, False, False, False,\n",
       "        True, False, False, False, False, False,  True,  True,  True,\n",
       "        True,  True,  True,  True,  True,  True,  True,  True,  True,\n",
       "        True,  True,  True, False,  True,  True,  True, False, False,\n",
       "       False,  True, False,  True, False, False, False, False, False,\n",
       "       False, False,  True,  True, False,  True,  True,  True,  True,\n",
       "        True,  True,  True,  True,  True,  True, False, False,  True,\n",
       "        True,  True,  True, False, False, False,  True, False,  True,\n",
       "       False, False, False,  True,  True,  True,  True, False,  True,\n",
       "       False,  True, False,  True,  True,  True,  True,  True,  True,\n",
       "        True,  True,  True,  True,  True,  True, False,  True, False,\n",
       "        True,  True,  True, False, False, False, False, False, False,\n",
       "        True, False, False, False,  True,  True,  True,  True,  True,\n",
       "        True,  True,  True,  True,  True,  True,  True,  True,  True,\n",
       "        True,  True,  True,  True, False, False,  True, False,  True,\n",
       "        True, False, False, False, False, False, False, False,  True,\n",
       "        True,  True,  True,  True,  True,  True,  True,  True,  True,\n",
       "        True,  True,  True, False, False,  True,  True, False,  True,\n",
       "       False,  True,  True,  True, False, False,  True,  True,  True,\n",
       "        True, False, False,  True, False,  True,  True,  True,  True,\n",
       "       False, False, False, False, False, False,  True, False, False,\n",
       "       False, False, False, False, False, False, False, False, False,\n",
       "       False,  True, False,  True,  True,  True,  True,  True, False,\n",
       "        True, False, False, False, False, False,  True,  True,  True,\n",
       "       False, False, False, False, False, False, False, False, False,\n",
       "       False, False,  True,  True,  True,  True,  True,  True,  True,\n",
       "        True,  True,  True,  True,  True, False, False, False,  True,\n",
       "        True, False, False, False, False, False, False,  True,  True,\n",
       "        True,  True, False,  True,  True,  True, False,  True,  True,\n",
       "        True])"
      ]
     },
     "execution_count": 31,
     "metadata": {},
     "output_type": "execute_result"
    }
   ],
   "source": []
  },
  {
   "cell_type": "markdown",
   "metadata": {},
   "source": [
    "14.Apply your index (from above) to the `car` array. You should now only see cars that are of US origin. "
   ]
  },
  {
   "cell_type": "code",
   "execution_count": 32,
   "metadata": {},
   "outputs": [
    {
     "data": {
      "text/plain": [
       "array(['Chevrolet Chevelle Malibu', 'Buick Skylark 320',\n",
       "       'Plymouth Satellite', 'AMC Rebel SST', 'Ford Torino',\n",
       "       'Ford Galaxie 500', 'Chevrolet Impala', 'Plymouth Fury iii',\n",
       "       'Pontiac Catalina', 'AMC Ambassador DPL',\n",
       "       'Chevrolet Chevelle Concours (sw)', 'Ford Torino (sw)',\n",
       "       'Plymouth Satellite (sw)', 'AMC Rebel SST (sw)',\n",
       "       'Dodge Challenger SE', \"Plymouth 'Cuda 340\",\n",
       "       'Ford Mustang Boss 302', 'Chevrolet Monte Carlo',\n",
       "       'Buick Estate Wagon (sw)', 'Plymouth Duster', 'AMC Hornet',\n",
       "       'Ford Maverick', 'AMC Gremlin', 'Ford F250', 'Chevy C20',\n",
       "       'Dodge D200', 'Hi 1200D', 'Chevrolet Vega 2300', 'Ford Pinto',\n",
       "       'AMC Gremlin', 'Plymouth Satellite Custom',\n",
       "       'Chevrolet Chevelle Malibu', 'Ford Torino 500', 'AMC Matador',\n",
       "       'Chevrolet Impala', 'Pontiac Catalina Brougham',\n",
       "       'Ford Galaxie 500', 'Plymouth Fury iii', 'Dodge Monaco (sw)',\n",
       "       'Ford Country Squire (sw)', 'Pontiac Safari (sw)',\n",
       "       'AMC Hornet Sportabout (sw)', 'Chevrolet Vega (sw)',\n",
       "       'Pontiac Firebird', 'Ford Mustang', 'Mercury Capri 2000',\n",
       "       'Plymouth Cricket', 'Dodge Colt Hardtop', 'Chevrolet Vega',\n",
       "       'Ford Pinto Runabout', 'Chevrolet Impala', 'Pontiac Catalina',\n",
       "       'Plymouth Fury III', 'Ford Galaxie 500', 'AMC Ambassador SST',\n",
       "       'Mercury Marquis', 'Buick LeSabre Custom',\n",
       "       'Oldsmobile Delta 88 Royale', 'Chrysler Newport Royal',\n",
       "       'AMC Matador (sw)', 'Chevrolet Chevelle Concours (sw)',\n",
       "       'Ford Gran Torino (sw)', 'Plymouth Satellite Custom (sw)',\n",
       "       'Ford Pinto (sw)', 'Dodge Colt (sw)', 'Buick Century 350',\n",
       "       'AMC Matador', 'Chevrolet Malibu', 'Ford Gran Torino',\n",
       "       'Dodge Coronet Custom', 'Mercury Marquis Brougham',\n",
       "       'Chevrolet Caprice Classic', 'Ford LTD',\n",
       "       'Plymouth Fury Gran Sedan', 'Chrysler New Yorker Brougham',\n",
       "       'Buick Electra 225 Custom', 'AMC Ambassador Brougham',\n",
       "       'Plymouth Valiant', 'Chevrolet Nova Custom', 'AMC Hornet',\n",
       "       'Ford Maverick', 'Plymouth Duster', 'Chevrolet Impala',\n",
       "       'Ford Country', 'Plymouth Custom Suburb',\n",
       "       'Oldsmobile Vista Cruiser', 'AMC Gremlin', 'Chevrolet Vega',\n",
       "       'Ford Pinto', 'Mercury Capri v6', 'Chevrolet Monte Carlo S',\n",
       "       'Pontiac Grand Prix', 'Dodge Dart Custom', 'Oldsmobile Omega',\n",
       "       'Plymouth Duster', 'Ford Maverick', 'AMC Hornet', 'Chevrolet Nova',\n",
       "       'Ford Pinto', 'Chevrolet Vega',\n",
       "       'Chevrolet Chevelle Malibu Classic', 'AMC Matador',\n",
       "       'Plymouth Satellite Sebring', 'Ford Gran Torino',\n",
       "       'Buick Century Luxus (sw)', 'Dodge Coronet Custom (sw)',\n",
       "       'Ford Gran Torino (sw)', 'AMC Matador (sw)', 'Dodge Colt',\n",
       "       'Plymouth Valiant Custom', 'Chevrolet Nova', 'Mercury Monarch',\n",
       "       'Ford Maverick', 'Pontiac Catalina', 'Chevrolet Bel Air',\n",
       "       'Plymouth Grand Fury', 'Ford LTD', 'Buick Century',\n",
       "       'Chevrolete Chevelle Malibu', 'AMC Matador', 'Plymouth Fury',\n",
       "       'Buick Skyhawk', 'Chevrolet Monza 2+2', 'Ford Mustang II',\n",
       "       'Ford Pinto', 'AMC Gremlin', 'Pontiac Astro', 'Ford Pinto',\n",
       "       'AMC Pacer', 'Capri ii', 'Dodge Colt',\n",
       "       'Chevrolet Chevelle Malibu Classic', 'Dodge Coronet Brougham',\n",
       "       'AMC Matador', 'Ford Gran Torino', 'Plymouth Valiant',\n",
       "       'Chevrolet Nova', 'Ford Maverick', 'AMC Hornet',\n",
       "       'Chevrolet Chevette', 'Chevrolet Woody', 'Dodge Aspen SE',\n",
       "       'Ford Grenada ghia', 'Pontiac Ventura SJ', 'AMC Pacer d/l',\n",
       "       'Ford Pinto', 'Plymouth Volare Premier v8', 'Cadillac Seville',\n",
       "       'Chevrolet C10', 'Ford F108', 'Dodge D100',\n",
       "       'Buick Opel Isuzu Deluxe', 'Plymouth Arrow GS',\n",
       "       'Chevrolet Caprice Classic', 'Oldsmobile Cutlass Supreme',\n",
       "       'Dodge Monaco Brougham', 'Mercury Cougar Brougham',\n",
       "       'Chevrolet Concours', 'Buick Skylark', 'Plymouth Volare Custom',\n",
       "       'Ford Grenada', 'Pontiac Grand Prix LJ',\n",
       "       'Chevrolet Monte Carlo Landau', 'Chrysler Cordoba',\n",
       "       'Ford Thunderbird', 'Pontiac Sunbird Coupe', 'Ford Mustang II 2+2',\n",
       "       'Chevrolet Chevette', 'Dodge Colt m/m', 'Ford Fiesta',\n",
       "       'Oldsmobile Cutlass Salon Brougham', 'Dodge Diplomat',\n",
       "       'Mercury Monarch ghia', 'Pontiac Phoenix LJ', 'Chevrolet Malibu',\n",
       "       'Ford Fairmont (auto)', 'Ford Fairmont (man)', 'Plymouth Volare',\n",
       "       'AMC Concord', 'Buick Century Special', 'Mercury Zephyr',\n",
       "       'Dodge Aspen', 'AMC Concord d/l', 'Chevrolet Monte Carlo Landau',\n",
       "       'Buick Regal Sport Coupe (turbo)', 'Ford Futura',\n",
       "       'Dodge Magnum XE', 'Chevrolet Chevette', 'Dodge Omni',\n",
       "       'Plymouth Sapporo', 'Oldsmobile Starfire SX', 'Pontiac Lemans V6',\n",
       "       'Mercury Zephyr 6', 'Ford Fairmont 4', 'AMC Concord DL 6',\n",
       "       'Dodge Aspen 6', 'Chevrolet Caprice Classic', 'Ford LTD Landau',\n",
       "       'Mercury Grand Marquis', 'Dodge St. Regis',\n",
       "       'Buick Estate Wagon (sw)', 'Ford Country Squire (sw)',\n",
       "       'Chevrolet Malibu Classic (sw)',\n",
       "       'Chrysler Lebaron Town @ Country (sw)',\n",
       "       'Dodge Colt Hatchback Custom', 'AMC Spirit DL',\n",
       "       'Cadillac Eldorado', 'Oldsmobile Cutlass Salon Brougham',\n",
       "       'Plymouth Horizon', 'Plymouth Horizon TC3',\n",
       "       'Buick Skylark Limited', 'Chevrolet Citation',\n",
       "       'Oldsmobile Omega Brougham', 'Pontiac Phoenix',\n",
       "       'Chevrolet Chevette', 'Chevrolet Citation', 'Ford Fairmont',\n",
       "       'AMC Concord', 'Dodge Aspen', 'Dodge Colt', 'Ford Mustang Cobra',\n",
       "       'Plymouth Reliant', 'Buick Skylark', 'Dodge Aries Wagon (sw)',\n",
       "       'Chevrolet Citation', 'Plymouth Reliant', 'Plymouth Champ',\n",
       "       'Plymouth Horizon 4', 'Ford Escort 4W', 'Ford Escort 2H',\n",
       "       'Buick Century', 'Oldsmobile Cutlass LS', 'Ford Grenada gl',\n",
       "       'Chrysler Lebaron Salon', 'Chevrolet Cavalier',\n",
       "       'Chevrolet Cavalier Wagon', 'Chevrolet Cavalier 2-door',\n",
       "       'Pontiac J2000 SE Hatchback', 'Dodge Aries SE', 'Pontiac Phoenix',\n",
       "       'Ford Fairmont Futura', 'AMC Concord DL', 'Plymouth Horizon Miser',\n",
       "       'Mercury Lynx l', 'Buick Century Limited',\n",
       "       'Oldsmobile Cutlass Ciera (diesel)', 'Chrysler Lebaron Medallion',\n",
       "       'Ford Grenada l', 'Dodge Charger 2.2', 'Chevrolet Camaro',\n",
       "       'Ford Mustang GL', 'Dodge Rampage', 'Ford Ranger', 'Chevy S-10'],\n",
       "      dtype=object)"
      ]
     },
     "execution_count": 32,
     "metadata": {},
     "output_type": "execute_result"
    }
   ],
   "source": []
  },
  {
   "cell_type": "markdown",
   "metadata": {},
   "source": [
    "15.Why might you prefer an `np.array()` over a Python `list`? And when is a Python `list` preferred? "
   ]
  },
  {
   "cell_type": "code",
   "execution_count": null,
   "metadata": {},
   "outputs": [],
   "source": []
  },
  {
   "cell_type": "markdown",
   "metadata": {},
   "source": [
    "16.What is an identity matrix? \n",
    "Create an identiy matrix of size 5 using an np method. "
   ]
  },
  {
   "cell_type": "code",
   "execution_count": null,
   "metadata": {},
   "outputs": [],
   "source": []
  },
  {
   "cell_type": "markdown",
   "metadata": {},
   "source": [
    "17.Transpose the following array. "
   ]
  },
  {
   "cell_type": "code",
   "execution_count": null,
   "metadata": {},
   "outputs": [],
   "source": [
    "transpose_me = np.array([[1,2,3],\n",
    "                      [4,5,6],\n",
    "                      [7,8,9]])\n"
   ]
  },
  {
   "cell_type": "code",
   "execution_count": null,
   "metadata": {},
   "outputs": [],
   "source": []
  },
  {
   "cell_type": "markdown",
   "metadata": {},
   "source": [
    "**The remaining questions are OPTIONAL**: The readings did not address all of these so you may have to use some \"Google-Fu\". "
   ]
  },
  {
   "cell_type": "markdown",
   "metadata": {},
   "source": [
    "1.Why does this multiplication operation fail? "
   ]
  },
  {
   "cell_type": "code",
   "execution_count": null,
   "metadata": {},
   "outputs": [],
   "source": [
    "arr1 = np.array([[1,2,3],\n",
    "                      [4,5,6],\n",
    "                      [7,8,9]])\n",
    "arr2 = np.array([[1,2,3],\n",
    "                      [4,5,6]])\n",
    "\n",
    "arr1 * arr2"
   ]
  },
  {
   "cell_type": "code",
   "execution_count": null,
   "metadata": {},
   "outputs": [],
   "source": []
  },
  {
   "cell_type": "markdown",
   "metadata": {},
   "source": [
    "Use numpy to answer the following questions. "
   ]
  },
  {
   "cell_type": "markdown",
   "metadata": {},
   "source": [
    "2.What is the average horsepower for `Europe` cars? (Hint: create boolean index of 'US' apply it to horsepower and perform the calculation.)"
   ]
  },
  {
   "cell_type": "code",
   "execution_count": null,
   "metadata": {},
   "outputs": [],
   "source": []
  },
  {
   "cell_type": "markdown",
   "metadata": {},
   "source": [
    "3.On average are Japanse cars more fuel efficient than US cars? "
   ]
  },
  {
   "cell_type": "code",
   "execution_count": null,
   "metadata": {},
   "outputs": [],
   "source": []
  },
  {
   "cell_type": "markdown",
   "metadata": {},
   "source": [
    "4.What is the correlation coefficient of `mpg` and `weight`? What is a correlaton coefficient?"
   ]
  },
  {
   "cell_type": "code",
   "execution_count": null,
   "metadata": {},
   "outputs": [],
   "source": []
  }
 ],
 "metadata": {
  "kernelspec": {
   "display_name": "Python 3 (ipykernel)",
   "language": "python",
   "name": "python3"
  },
  "language_info": {
   "codemirror_mode": {
    "name": "ipython",
    "version": 3
   },
   "file_extension": ".py",
   "mimetype": "text/x-python",
   "name": "python",
   "nbconvert_exporter": "python",
   "pygments_lexer": "ipython3",
   "version": "3.9.7"
  }
 },
 "nbformat": 4,
 "nbformat_minor": 4
}
